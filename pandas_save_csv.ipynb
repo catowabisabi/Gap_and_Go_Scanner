{
 "cells": [
  {
   "cell_type": "code",
   "execution_count": 7,
   "metadata": {},
   "outputs": [
    {
     "data": {
      "text/html": [
       "<div>\n",
       "<style scoped>\n",
       "    .dataframe tbody tr th:only-of-type {\n",
       "        vertical-align: middle;\n",
       "    }\n",
       "\n",
       "    .dataframe tbody tr th {\n",
       "        vertical-align: top;\n",
       "    }\n",
       "\n",
       "    .dataframe thead th {\n",
       "        text-align: right;\n",
       "    }\n",
       "</style>\n",
       "<table border=\"1\" class=\"dataframe\">\n",
       "  <thead>\n",
       "    <tr style=\"text-align: right;\">\n",
       "      <th></th>\n",
       "    </tr>\n",
       "  </thead>\n",
       "  <tbody>\n",
       "  </tbody>\n",
       "</table>\n",
       "</div>"
      ],
      "text/plain": [
       "Empty DataFrame\n",
       "Columns: []\n",
       "Index: []"
      ]
     },
     "execution_count": 7,
     "metadata": {},
     "output_type": "execute_result"
    }
   ],
   "source": [
    "import datetime, pandas\n",
    "\n",
    "\n",
    "trade_orders = []\n",
    "\n",
    "df = pandas.DataFrame(data = trade_orders)\n",
    "df"
   ]
  },
  {
   "cell_type": "code",
   "execution_count": 7,
   "metadata": {},
   "outputs": [],
   "source": [
    "df.to_csv('Trading_log.csv')"
   ]
  },
  {
   "cell_type": "code",
   "execution_count": 8,
   "metadata": {},
   "outputs": [
    {
     "data": {
      "text/plain": [
       "{'賣出時間': '2022年07月01日-19時14分',\n",
       " '股票代號': 'AAPL',\n",
       " '賣出股數': 3,\n",
       " '賣出價錢': 240.555,\n",
       " '總價': 721.665}"
      ]
     },
     "execution_count": 8,
     "metadata": {},
     "output_type": "execute_result"
    }
   ],
   "source": [
    "symbol = \"AAPL\"\n",
    "quantity = 3\n",
    "open_price = 240.555\n",
    "now = datetime.datetime.now()\n",
    "date_string = now.strftime(\"%Y年%m月%d日-%H時%M分\")\n",
    "\n",
    "trading_order = {\"賣出時間\" : date_string, \"股票代號\":symbol, \"賣出股數\": quantity, \"賣出價錢\": open_price, \"總價\": float(quantity * open_price)}\n",
    "trading_order"
   ]
  },
  {
   "cell_type": "code",
   "execution_count": 9,
   "metadata": {},
   "outputs": [
    {
     "data": {
      "text/html": [
       "<div>\n",
       "<style scoped>\n",
       "    .dataframe tbody tr th:only-of-type {\n",
       "        vertical-align: middle;\n",
       "    }\n",
       "\n",
       "    .dataframe tbody tr th {\n",
       "        vertical-align: top;\n",
       "    }\n",
       "\n",
       "    .dataframe thead th {\n",
       "        text-align: right;\n",
       "    }\n",
       "</style>\n",
       "<table border=\"1\" class=\"dataframe\">\n",
       "  <thead>\n",
       "    <tr style=\"text-align: right;\">\n",
       "      <th></th>\n",
       "      <th>賣出時間</th>\n",
       "      <th>股票代號</th>\n",
       "      <th>賣出股數</th>\n",
       "      <th>賣出價錢</th>\n",
       "      <th>總價</th>\n",
       "    </tr>\n",
       "  </thead>\n",
       "  <tbody>\n",
       "    <tr>\n",
       "      <th>0</th>\n",
       "      <td>2022年07月01日-19時14分</td>\n",
       "      <td>AAPL</td>\n",
       "      <td>3</td>\n",
       "      <td>240.555</td>\n",
       "      <td>721.665</td>\n",
       "    </tr>\n",
       "  </tbody>\n",
       "</table>\n",
       "</div>"
      ],
      "text/plain": [
       "                 賣出時間  股票代號  賣出股數     賣出價錢       總價\n",
       "0  2022年07月01日-19時14分  AAPL     3  240.555  721.665"
      ]
     },
     "execution_count": 9,
     "metadata": {},
     "output_type": "execute_result"
    }
   ],
   "source": [
    "df = pandas.DataFrame(trading_order, index = [0])\n",
    "df"
   ]
  },
  {
   "cell_type": "code",
   "execution_count": 11,
   "metadata": {},
   "outputs": [
    {
     "name": "stderr",
     "output_type": "stream",
     "text": [
      "C:\\Users\\enoma\\AppData\\Local\\Temp\\ipykernel_2288\\108384191.py:1: FutureWarning: The frame.append method is deprecated and will be removed from pandas in a future version. Use pandas.concat instead.\n",
      "  df = df.append(trading_order, ignore_index=True, sort=False)\n"
     ]
    },
    {
     "data": {
      "text/html": [
       "<div>\n",
       "<style scoped>\n",
       "    .dataframe tbody tr th:only-of-type {\n",
       "        vertical-align: middle;\n",
       "    }\n",
       "\n",
       "    .dataframe tbody tr th {\n",
       "        vertical-align: top;\n",
       "    }\n",
       "\n",
       "    .dataframe thead th {\n",
       "        text-align: right;\n",
       "    }\n",
       "</style>\n",
       "<table border=\"1\" class=\"dataframe\">\n",
       "  <thead>\n",
       "    <tr style=\"text-align: right;\">\n",
       "      <th></th>\n",
       "      <th>賣出時間</th>\n",
       "      <th>股票代號</th>\n",
       "      <th>賣出股數</th>\n",
       "      <th>賣出價錢</th>\n",
       "      <th>總價</th>\n",
       "    </tr>\n",
       "  </thead>\n",
       "  <tbody>\n",
       "    <tr>\n",
       "      <th>0</th>\n",
       "      <td>2022年07月01日-19時14分</td>\n",
       "      <td>AAPL</td>\n",
       "      <td>3</td>\n",
       "      <td>240.555</td>\n",
       "      <td>721.665</td>\n",
       "    </tr>\n",
       "    <tr>\n",
       "      <th>1</th>\n",
       "      <td>2022年07月01日-19時14分</td>\n",
       "      <td>AAPL</td>\n",
       "      <td>3</td>\n",
       "      <td>240.555</td>\n",
       "      <td>721.665</td>\n",
       "    </tr>\n",
       "    <tr>\n",
       "      <th>2</th>\n",
       "      <td>2022年07月01日-19時14分</td>\n",
       "      <td>AAPL</td>\n",
       "      <td>3</td>\n",
       "      <td>240.555</td>\n",
       "      <td>721.665</td>\n",
       "    </tr>\n",
       "  </tbody>\n",
       "</table>\n",
       "</div>"
      ],
      "text/plain": [
       "                 賣出時間  股票代號  賣出股數     賣出價錢       總價\n",
       "0  2022年07月01日-19時14分  AAPL     3  240.555  721.665\n",
       "1  2022年07月01日-19時14分  AAPL     3  240.555  721.665\n",
       "2  2022年07月01日-19時14分  AAPL     3  240.555  721.665"
      ]
     },
     "execution_count": 11,
     "metadata": {},
     "output_type": "execute_result"
    }
   ],
   "source": [
    "df = df.append(trading_order, ignore_index=True, sort=False)\n",
    "df"
   ]
  },
  {
   "cell_type": "code",
   "execution_count": 15,
   "metadata": {},
   "outputs": [],
   "source": [
    "df.to_csv('Trading_log.csv', encoding=\"utf-8_sig\")"
   ]
  }
 ],
 "metadata": {
  "kernelspec": {
   "display_name": "Python 3.10.5 64-bit",
   "language": "python",
   "name": "python3"
  },
  "language_info": {
   "codemirror_mode": {
    "name": "ipython",
    "version": 3
   },
   "file_extension": ".py",
   "mimetype": "text/x-python",
   "name": "python",
   "nbconvert_exporter": "python",
   "pygments_lexer": "ipython3",
   "version": "3.10.5"
  },
  "orig_nbformat": 4,
  "vscode": {
   "interpreter": {
    "hash": "26de051ba29f2982a8de78e945f0abaf191376122a1563185a90213a26c5da77"
   }
  }
 },
 "nbformat": 4,
 "nbformat_minor": 2
}
